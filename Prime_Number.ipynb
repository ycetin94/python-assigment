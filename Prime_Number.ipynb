{
  "nbformat": 4,
  "nbformat_minor": 0,
  "metadata": {
    "colab": {
      "name": "Prime_Number.ipynb",
      "provenance": [],
      "collapsed_sections": [],
      "authorship_tag": "ABX9TyNTzQ7nDhJ4hF6dQR5X3pJM",
      "include_colab_link": true
    },
    "kernelspec": {
      "name": "python3",
      "display_name": "Python 3"
    },
    "language_info": {
      "name": "python"
    }
  },
  "cells": [
    {
      "cell_type": "markdown",
      "metadata": {
        "id": "view-in-github",
        "colab_type": "text"
      },
      "source": [
        "<a href=\"https://colab.research.google.com/github/ycetin94/python-assigment/blob/main/Prime_Number.ipynb\" target=\"_parent\"><img src=\"https://colab.research.google.com/assets/colab-badge.svg\" alt=\"Open In Colab\"/></a>"
      ]
    },
    {
      "cell_type": "code",
      "metadata": {
        "colab": {
          "base_uri": "https://localhost:8080/"
        },
        "id": "OZIQAPgHLFBA",
        "outputId": "0fe86382-5daf-407a-8b11-fa7875234476"
      },
      "source": [
        "sayi=int(input(\"Sayıyı Girin : \"))\n",
        "if sayi > 1:\n",
        "   \n",
        "   for i in range(2,sayi):\n",
        "       if (sayi % i) == 0:\n",
        "           print(sayi,\" Asal Sayı Değildir.\")\n",
        "           break\n",
        "   else:\n",
        "       print(sayi,\" Asal Sayıdır.\")\n",
        " \n",
        "else:\n",
        "   print(sayi,\" Asal Sayı Değildir.\")\n",
        "\n",
        "\n",
        "\n",
        "\n",
        "\n",
        "\n",
        "\n",
        "\n"
      ],
      "execution_count": 7,
      "outputs": [
        {
          "output_type": "stream",
          "name": "stdout",
          "text": [
            "Sayıyı Girin : 97\n",
            "97  Asal Sayıdır.\n"
          ]
        }
      ]
    }
  ]
}