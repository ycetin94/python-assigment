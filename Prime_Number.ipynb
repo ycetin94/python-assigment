{
 "cells": [
  {
   "cell_type": "code",
   "execution_count": 3,
   "metadata": {
    "colab": {
     "base_uri": "https://localhost:8080/"
    },
    "id": "OZIQAPgHLFBA",
    "outputId": "0fe86382-5daf-407a-8b11-fa7875234476"
   },
   "outputs": [
    {
     "name": "stdout",
     "output_type": "stream",
     "text": [
      "Sayıyı Girin : 19\n",
      "19  Asal Sayıdır.\n"
     ]
    }
   ],
   "source": [
    "sayi=int(input(\"Sayıyı Girin : \"))\n",
    "if sayi > 1:\n",
    "   \n",
    "   for i in range(2,sayi):\n",
    "       if (sayi % i) == 0:\n",
    "           print(sayi,\" Asal Sayı Değildir.\")\n",
    "           break\n",
    "   else:\n",
    "       print(sayi,\" Asal Sayıdır.\")\n",
    " \n",
    "else:\n",
    "   print(sayi,\" Asal Sayı Değildir.\")\n",
    "\n",
    "\n",
    "\n",
    "\n",
    "\n",
    "\n",
    "\n",
    "\n"
   ]
  },
  {
   "cell_type": "code",
   "execution_count": null,
   "metadata": {},
   "outputs": [],
   "source": []
  }
 ],
 "metadata": {
  "colab": {
   "collapsed_sections": [],
   "name": "Prime_Number.ipynb",
   "provenance": []
  },
  "kernelspec": {
   "display_name": "Python 3 (ipykernel)",
   "language": "python",
   "name": "python3"
  },
  "language_info": {
   "codemirror_mode": {
    "name": "ipython",
    "version": 3
   },
   "file_extension": ".py",
   "mimetype": "text/x-python",
   "name": "python",
   "nbconvert_exporter": "python",
   "pygments_lexer": "ipython3",
   "version": "3.10.0"
  }
 },
 "nbformat": 4,
 "nbformat_minor": 1
}
