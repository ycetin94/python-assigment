{
 "cells": [
  {
   "cell_type": "code",
   "execution_count": 2,
   "metadata": {
    "colab": {
     "base_uri": "https://localhost:8080/"
    },
    "id": "m7Ul9PFOLFkD",
    "outputId": "909d487b-03fc-47bb-c2a7-47ed3f5b128d"
   },
   "outputs": [
    {
     "name": "stdout",
     "output_type": "stream",
     "text": [
      "Sayıyı Giriniz:1634\n",
      "Bu Bir Armstrong Sayısıdır.\n"
     ]
    }
   ],
   "source": [
    "sayi = int(input(\"Sayıyı Giriniz:\"))\n",
    "basamak = str(sayi)\n",
    "\n",
    "toplam=0\n",
    "\n",
    "for x in basamak:\n",
    "    rakam = int(x)**len(basamak)\n",
    "    toplam += rakam\n",
    "\n",
    "if(sayi == toplam):\n",
    "    print(\"Bu Bir Armstrong Sayısıdır.\")\n",
    "else:\n",
    "    print(\"Armstong Sayısı Degildir.\")\n"
   ]
  },
  {
   "cell_type": "code",
   "execution_count": null,
   "metadata": {},
   "outputs": [],
   "source": []
  }
 ],
 "metadata": {
  "colab": {
   "collapsed_sections": [],
   "name": "amstrong.ipynb",
   "provenance": []
  },
  "kernelspec": {
   "display_name": "Python 3 (ipykernel)",
   "language": "python",
   "name": "python3"
  },
  "language_info": {
   "codemirror_mode": {
    "name": "ipython",
    "version": 3
   },
   "file_extension": ".py",
   "mimetype": "text/x-python",
   "name": "python",
   "nbconvert_exporter": "python",
   "pygments_lexer": "ipython3",
   "version": "3.10.0"
  }
 },
 "nbformat": 4,
 "nbformat_minor": 1
}
