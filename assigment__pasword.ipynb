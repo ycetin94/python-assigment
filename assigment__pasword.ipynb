{
  "nbformat": 4,
  "nbformat_minor": 0,
  "metadata": {
    "colab": {
      "name": "assigment_ pasword.ipynb",
      "provenance": [],
      "authorship_tag": "ABX9TyNlsfwO1pBljZeX0dQPNE4+",
      "include_colab_link": true
    },
    "kernelspec": {
      "name": "python3",
      "display_name": "Python 3"
    },
    "language_info": {
      "name": "python"
    }
  },
  "cells": [
    {
      "cell_type": "markdown",
      "metadata": {
        "id": "view-in-github",
        "colab_type": "text"
      },
      "source": [
        "<a href=\"https://colab.research.google.com/github/ycetin94/python-assigment/blob/main/assigment__pasword.ipynb\" target=\"_parent\"><img src=\"https://colab.research.google.com/assets/colab-badge.svg\" alt=\"Open In Colab\"/></a>"
      ]
    },
    {
      "cell_type": "code",
      "metadata": {
        "colab": {
          "base_uri": "https://localhost:8080/"
        },
        "id": "1zzr4gbtaH3w",
        "outputId": "795db6cc-7fe6-4b44-98aa-4ae365c633c2"
      },
      "source": [
        "myname = \"Joseph\"\n",
        "first_name = input(\"Please input your name to see the password= \")\n",
        "\n",
        "if first_name.title() == myname:\n",
        "  print(f\"Hello Joseph! The password is: W@12\")\n",
        "else:\n",
        "  print(f\"Hello {first_name}! See you later.\")\n"
      ],
      "execution_count": 1,
      "outputs": [
        {
          "output_type": "stream",
          "name": "stdout",
          "text": [
            "Please input your name to see the password= ahmet\n",
            "Hello ahmet! See you later.\n"
          ]
        }
      ]
    }
  ]
}