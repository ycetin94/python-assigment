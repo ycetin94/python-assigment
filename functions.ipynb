{
 "cells": [
  {
   "cell_type": "code",
   "execution_count": 2,
   "id": "4b3f3595-a8da-4629-8a38-2c862eb5fd8b",
   "metadata": {},
   "outputs": [
    {
     "name": "stdout",
     "output_type": "stream",
     "text": [
      "2775\n"
     ]
    }
   ],
   "source": [
    "top = 0\n",
    "\n",
    "for i in range (1,75):\n",
    "    top +=i\n",
    "    \n",
    "print(top)   \n"
   ]
  },
  {
   "cell_type": "code",
   "execution_count": 4,
   "id": "3a6789d1-ce5c-4755-8f7f-c670973e0f4d",
   "metadata": {},
   "outputs": [
    {
     "name": "stdout",
     "output_type": "stream",
     "text": [
      "2775\n"
     ]
    }
   ],
   "source": [
    "top = 0\n",
    "list=[]\n",
    "for i in range (1,75):\n",
    "    list.append(i)\n",
    "print(sum(list))"
   ]
  },
  {
   "cell_type": "code",
   "execution_count": 66,
   "id": "57138612-1a3e-48a9-989d-b0a742c15558",
   "metadata": {},
   "outputs": [
    {
     "name": "stdout",
     "output_type": "stream",
     "text": [
      "20     16     22     18     19     15     "
     ]
    }
   ],
   "source": [
    "a=[3,5,2]  # yukarıdan aşağıya doğru soldan başayıp devam eder. \n",
    "b=[17,13]\n",
    "\n",
    "\n",
    "for i in a:\n",
    "    for j in b:\n",
    "        print ((i + j), end=\"     \" )"
   ]
  },
  {
   "cell_type": "code",
   "execution_count": 21,
   "id": "96d23d32-d168-4bf7-9491-71db539dae33",
   "metadata": {},
   "outputs": [
    {
     "name": "stdout",
     "output_type": "stream",
     "text": [
      "john is happy\n",
      "john is sad\n",
      "john is excited\n",
      "Alice is happy\n",
      "Alice is sad\n",
      "Alice is excited\n"
     ]
    }
   ],
   "source": [
    "c= [\"john\", \"Alice\"]\n",
    "d = [\"happy\", \"sad\", \"excited\"]\n",
    "\n",
    "for i in c :\n",
    "    for j in d:\n",
    "        print(i  +\" is \" + j  )"
   ]
  },
  {
   "cell_type": "code",
   "execution_count": 25,
   "id": "e65edf91-58f1-4416-906d-c216c3246c31",
   "metadata": {},
   "outputs": [],
   "source": [
    "v = (\"one\", 5, True)"
   ]
  },
  {
   "cell_type": "code",
   "execution_count": 26,
   "id": "988452c3-1b67-4328-abc6-3334ce98bbe5",
   "metadata": {},
   "outputs": [
    {
     "data": {
      "text/plain": [
       "('one', 5, True)"
      ]
     },
     "execution_count": 26,
     "metadata": {},
     "output_type": "execute_result"
    }
   ],
   "source": [
    "v"
   ]
  },
  {
   "cell_type": "code",
   "execution_count": 27,
   "id": "e7fb1980-36ef-48fd-84f4-c9d003d1ec31",
   "metadata": {},
   "outputs": [],
   "source": [
    "x,y,z = v"
   ]
  },
  {
   "cell_type": "code",
   "execution_count": 28,
   "id": "2bb116bc-8b58-4c48-823c-5ecc502a9ae8",
   "metadata": {},
   "outputs": [
    {
     "data": {
      "text/plain": [
       "'one'"
      ]
     },
     "execution_count": 28,
     "metadata": {},
     "output_type": "execute_result"
    }
   ],
   "source": [
    "x"
   ]
  },
  {
   "cell_type": "code",
   "execution_count": 30,
   "id": "799e6966-0526-4438-807c-7e38a718ac87",
   "metadata": {},
   "outputs": [
    {
     "data": {
      "text/plain": [
       "True"
      ]
     },
     "execution_count": 30,
     "metadata": {},
     "output_type": "execute_result"
    }
   ],
   "source": [
    "z"
   ]
  },
  {
   "cell_type": "code",
   "execution_count": 33,
   "id": "13e87630-a83f-4b2d-b744-23d95def3fcc",
   "metadata": {},
   "outputs": [],
   "source": [
    "mylist=[1,2,3,4,5,6]\n",
    "new=[]\n"
   ]
  },
  {
   "cell_type": "code",
   "execution_count": 34,
   "id": "5ed5db45-e586-49d7-82b0-0b667eaf706c",
   "metadata": {},
   "outputs": [
    {
     "name": "stdout",
     "output_type": "stream",
     "text": [
      "[1, 27, 125]\n"
     ]
    }
   ],
   "source": [
    "for x in mylist :\n",
    "    if x %2 !=0 :\n",
    "        new.append(x**3)\n",
    "print(new)\n",
    "    "
   ]
  },
  {
   "cell_type": "code",
   "execution_count": 36,
   "id": "c6115df4-00aa-4de6-8181-635e978c1fc2",
   "metadata": {},
   "outputs": [],
   "source": [
    " # [expression for item in iterable]"
   ]
  },
  {
   "cell_type": "code",
   "execution_count": null,
   "id": "e28e4753-180c-4dac-8f56-679ea59da5cb",
   "metadata": {},
   "outputs": [],
   "source": [
    "# [expression/body  if condition else  expression/body2]"
   ]
  },
  {
   "cell_type": "code",
   "execution_count": 38,
   "id": "aca60a72-3e69-4385-b2e9-01c233a99e47",
   "metadata": {},
   "outputs": [
    {
     "data": {
      "text/plain": [
       "[1, 27, 125]"
      ]
     },
     "execution_count": 38,
     "metadata": {},
     "output_type": "execute_result"
    }
   ],
   "source": [
    "[x**3 for x in mylist if x %2 !=0 ]"
   ]
  },
  {
   "cell_type": "code",
   "execution_count": 40,
   "id": "042ac48a-bfa4-4c37-a95e-a290e54aef9a",
   "metadata": {},
   "outputs": [
    {
     "data": {
      "text/plain": [
       "[4, 16, 36]"
      ]
     },
     "execution_count": 40,
     "metadata": {},
     "output_type": "execute_result"
    }
   ],
   "source": [
    "[x**2 for x in mylist if x %2 ==0 ]"
   ]
  },
  {
   "cell_type": "code",
   "execution_count": 42,
   "id": "e91af4df-1ed5-4b21-ad09-20fe94b291f5",
   "metadata": {},
   "outputs": [
    {
     "data": {
      "text/plain": [
       "[1, 2, 3, 4, 5]"
      ]
     },
     "execution_count": 42,
     "metadata": {},
     "output_type": "execute_result"
    }
   ],
   "source": [
    "sayılar =[]\n",
    "\n",
    "for i in range(1,6) :\n",
    "    sayılar.append(i)\n",
    "sayılar     "
   ]
  },
  {
   "cell_type": "code",
   "execution_count": 43,
   "id": "63da26ca",
   "metadata": {},
   "outputs": [
    {
     "data": {
      "text/plain": [
       "[1, 2, 3, 4, 5]"
      ]
     },
     "execution_count": 43,
     "metadata": {},
     "output_type": "execute_result"
    }
   ],
   "source": [
    "[i for i in range(1,6)]"
   ]
  },
  {
   "cell_type": "code",
   "execution_count": 46,
   "id": "4bd25fcf",
   "metadata": {},
   "outputs": [
    {
     "data": {
      "text/plain": [
       "[[1], [4], [9], [16], [25]]"
      ]
     },
     "execution_count": 46,
     "metadata": {},
     "output_type": "execute_result"
    }
   ],
   "source": [
    "[[i**2] for i in range(1,6)]"
   ]
  },
  {
   "cell_type": "code",
   "execution_count": 55,
   "id": "9c81a05f",
   "metadata": {},
   "outputs": [
    {
     "name": "stdout",
     "output_type": "stream",
     "text": [
      "[1, 9, 25]\n"
     ]
    }
   ],
   "source": [
    "mylist=[1,2,3,4,5,6]\n",
    "new=[]\n",
    "\n",
    "for x in mylist :\n",
    "    if x %2  :               # tek sayıları aldı\n",
    "        new.append(x**2)\n",
    "print(new)\n",
    "    "
   ]
  },
  {
   "cell_type": "code",
   "execution_count": 51,
   "id": "bef248ee",
   "metadata": {},
   "outputs": [
    {
     "data": {
      "text/plain": [
       "[1, 9, 25]"
      ]
     },
     "execution_count": 51,
     "metadata": {},
     "output_type": "execute_result"
    }
   ],
   "source": [
    "[ x**2 for x in mylist if x %2 ]"
   ]
  },
  {
   "cell_type": "code",
   "execution_count": 54,
   "id": "a6bd7410",
   "metadata": {},
   "outputs": [
    {
     "name": "stdout",
     "output_type": "stream",
     "text": [
      "[4, 16, 36]\n"
     ]
    }
   ],
   "source": [
    "mylist=[1,2,3,4,5,6]\n",
    "new=[]\n",
    "\n",
    "for x in mylist :\n",
    "    if x %2 == False :           # çift sayıları aldı\n",
    "        new.append(x**2)\n",
    "print(new)\n",
    "    "
   ]
  },
  {
   "cell_type": "code",
   "execution_count": 56,
   "id": "78a3ff48",
   "metadata": {},
   "outputs": [
    {
     "data": {
      "text/plain": [
       "[4, 16, 36]"
      ]
     },
     "execution_count": 56,
     "metadata": {},
     "output_type": "execute_result"
    }
   ],
   "source": [
    "[ x**2 for x in mylist if x %2== False ]"
   ]
  },
  {
   "cell_type": "code",
   "execution_count": 89,
   "id": "9d9a71a5",
   "metadata": {},
   "outputs": [
    {
     "name": "stdout",
     "output_type": "stream",
     "text": [
      "sayı girin :   7\n",
      "7 asal sayıdır \n"
     ]
    }
   ],
   "source": [
    "n = int(input(\"sayı girin :   \")) \n",
    "if n >1 :\n",
    "    for i in range(2,n) :\n",
    "        if n%i == 0 :\n",
    "            print (n ,\"asal değil\")\n",
    "            break\n",
    "    else:\n",
    "        print (n,\"asal sayıdır \")\n",
    "    \n",
    "else:\n",
    "    print (n,\"asal sayı değil kine  \")\n",
    "        \n"
   ]
  },
  {
   "cell_type": "code",
   "execution_count": 92,
   "id": "3319cb24",
   "metadata": {},
   "outputs": [],
   "source": [
    "def faktor(sayı) :\n",
    "    faktor =1\n",
    "    for i in range (1,sayı+1):\n",
    "        faktor *=i\n",
    "        \n",
    "    print (faktor)\n",
    "\n",
    "\n",
    "\n",
    "\n"
   ]
  },
  {
   "cell_type": "code",
   "execution_count": 96,
   "id": "b39cfce0",
   "metadata": {},
   "outputs": [
    {
     "name": "stdout",
     "output_type": "stream",
     "text": [
      "24\n"
     ]
    }
   ],
   "source": [
    "faktor(4)"
   ]
  },
  {
   "cell_type": "code",
   "execution_count": 111,
   "id": "40a627c3",
   "metadata": {},
   "outputs": [],
   "source": [
    "def kenar (x, y):\n",
    "    naciye =(x**2 + y**2)**0.5\n",
    "    return naciye"
   ]
  },
  {
   "cell_type": "code",
   "execution_count": 113,
   "id": "1ed300f2",
   "metadata": {},
   "outputs": [
    {
     "data": {
      "text/plain": [
       "5.0"
      ]
     },
     "execution_count": 113,
     "metadata": {},
     "output_type": "execute_result"
    }
   ],
   "source": [
    "naciye (3, 4)\n"
   ]
  },
  {
   "cell_type": "code",
   "execution_count": 161,
   "id": "d327acf0-0d1d-4318-b15e-edbcc966b7f1",
   "metadata": {},
   "outputs": [],
   "source": [
    "def ciftkare(a,b) :\n",
    "    return [i**2 for i in range (a, b+1)  if i%2 ==0 ]        \n",
    "                \n",
    "        "
   ]
  },
  {
   "cell_type": "code",
   "execution_count": 162,
   "id": "c89514d8-aeaf-4caa-bc51-7debac9815e9",
   "metadata": {},
   "outputs": [
    {
     "data": {
      "text/plain": [
       "[4, 16, 36, 64, 100]"
      ]
     },
     "execution_count": 162,
     "metadata": {},
     "output_type": "execute_result"
    }
   ],
   "source": [
    "ciftkare (2,10)"
   ]
  },
  {
   "cell_type": "code",
   "execution_count": 132,
   "id": "c0225942-ec9b-4e39-8eec-84d2764b09cd",
   "metadata": {},
   "outputs": [],
   "source": [
    "listA = [\"susan\", \"tom\", False, 0, 22]\n",
    "filtered_list = filter(None, listA)"
   ]
  },
  {
   "cell_type": "code",
   "execution_count": 133,
   "id": "af24d691",
   "metadata": {},
   "outputs": [
    {
     "data": {
      "text/plain": [
       "<filter at 0x19a45f47ca0>"
      ]
     },
     "execution_count": 133,
     "metadata": {},
     "output_type": "execute_result"
    }
   ],
   "source": [
    "filtered_list"
   ]
  },
  {
   "cell_type": "code",
   "execution_count": 134,
   "id": "aeed36c9",
   "metadata": {},
   "outputs": [
    {
     "name": "stdout",
     "output_type": "stream",
     "text": [
      "filtered elements\n",
      "susan\n",
      "tom\n",
      "22\n"
     ]
    }
   ],
   "source": [
    "print(\"filtered elements\")\n",
    "\n",
    "for i in filtered_list:\n",
    "    print(i)\n",
    "\n"
   ]
  },
  {
   "cell_type": "code",
   "execution_count": 137,
   "id": "cfb2b1d0",
   "metadata": {},
   "outputs": [
    {
     "name": "stdout",
     "output_type": "stream",
     "text": [
      "<class 'enumerate'>\n"
     ]
    },
    {
     "ename": "TypeError",
     "evalue": "'list' object is not callable",
     "output_type": "error",
     "traceback": [
      "\u001b[1;31m---------------------------------------------------------------------------\u001b[0m",
      "\u001b[1;31mTypeError\u001b[0m                                 Traceback (most recent call last)",
      "\u001b[1;32m~\\AppData\\Local\\Temp/ipykernel_29528/4086391476.py\u001b[0m in \u001b[0;36m<module>\u001b[1;34m\u001b[0m\n\u001b[0;32m      4\u001b[0m \u001b[0mprint\u001b[0m\u001b[1;33m(\u001b[0m\u001b[0mtype\u001b[0m\u001b[1;33m(\u001b[0m\u001b[0menum_grocery\u001b[0m\u001b[1;33m)\u001b[0m\u001b[1;33m)\u001b[0m\u001b[1;33m\u001b[0m\u001b[1;33m\u001b[0m\u001b[0m\n\u001b[0;32m      5\u001b[0m \u001b[1;33m\u001b[0m\u001b[0m\n\u001b[1;32m----> 6\u001b[1;33m \u001b[0mprint\u001b[0m\u001b[1;33m(\u001b[0m\u001b[0mlist\u001b[0m\u001b[1;33m(\u001b[0m\u001b[0menum_grocery\u001b[0m\u001b[1;33m)\u001b[0m\u001b[1;33m)\u001b[0m\u001b[1;33m\u001b[0m\u001b[1;33m\u001b[0m\u001b[0m\n\u001b[0m\u001b[0;32m      7\u001b[0m \u001b[1;33m\u001b[0m\u001b[0m\n\u001b[0;32m      8\u001b[0m \u001b[0menum_grocery\u001b[0m \u001b[1;33m=\u001b[0m \u001b[0menumerate\u001b[0m\u001b[1;33m(\u001b[0m\u001b[0mgrocery\u001b[0m\u001b[1;33m,\u001b[0m \u001b[1;36m10\u001b[0m\u001b[1;33m)\u001b[0m\u001b[1;33m\u001b[0m\u001b[1;33m\u001b[0m\u001b[0m\n",
      "\u001b[1;31mTypeError\u001b[0m: 'list' object is not callable"
     ]
    }
   ],
   "source": [
    "grocery = [\"bread\", \"water\", \"olive\"]\n",
    "enum_grocery = enumerate(grocery)\n",
    "\n",
    "print(type(enum_grocery))\n",
    "\n",
    "print(list(enum_grocery))\n",
    "\n",
    "enum_grocery = enumerate(grocery, 10)\n",
    "\n",
    "print(list(enum_grocery))"
   ]
  },
  {
   "cell_type": "code",
   "execution_count": 138,
   "id": "edebf5f3",
   "metadata": {},
   "outputs": [],
   "source": [
    "def ilkfonk(x,y) :\n",
    "    print(x**2 +y**2)"
   ]
  },
  {
   "cell_type": "code",
   "execution_count": 139,
   "id": "ec44ba23",
   "metadata": {},
   "outputs": [
    {
     "name": "stdout",
     "output_type": "stream",
     "text": [
      "25\n"
     ]
    }
   ],
   "source": [
    "ilkfonk (3,4)"
   ]
  },
  {
   "cell_type": "code",
   "execution_count": 156,
   "id": "f92e8442",
   "metadata": {},
   "outputs": [],
   "source": [
    "def hip(a,b):\n",
    "    print((a**2 + b**2)**0.5)   \n",
    "    \n",
    "    \"\"\"   aaaaa \"\"\""
   ]
  },
  {
   "cell_type": "code",
   "execution_count": 157,
   "id": "9133a3f5",
   "metadata": {},
   "outputs": [
    {
     "name": "stdout",
     "output_type": "stream",
     "text": [
      "5.0\n"
     ]
    }
   ],
   "source": [
    "hip(3,4)"
   ]
  },
  {
   "cell_type": "code",
   "execution_count": null,
   "id": "5a5d1080",
   "metadata": {},
   "outputs": [],
   "source": []
  },
  {
   "cell_type": "code",
   "execution_count": null,
   "id": "134db054",
   "metadata": {},
   "outputs": [],
   "source": []
  },
  {
   "cell_type": "code",
   "execution_count": null,
   "id": "12cf941a",
   "metadata": {},
   "outputs": [],
   "source": []
  },
  {
   "cell_type": "code",
   "execution_count": null,
   "id": "d432d26b",
   "metadata": {},
   "outputs": [],
   "source": []
  },
  {
   "cell_type": "code",
   "execution_count": null,
   "id": "dcc4dbf8",
   "metadata": {},
   "outputs": [],
   "source": []
  },
  {
   "cell_type": "code",
   "execution_count": null,
   "id": "e01732ec",
   "metadata": {},
   "outputs": [],
   "source": []
  },
  {
   "cell_type": "code",
   "execution_count": null,
   "id": "e36bc727",
   "metadata": {},
   "outputs": [],
   "source": []
  },
  {
   "cell_type": "code",
   "execution_count": null,
   "id": "76bbd7f0",
   "metadata": {},
   "outputs": [],
   "source": []
  },
  {
   "cell_type": "code",
   "execution_count": null,
   "id": "d226bb6b",
   "metadata": {},
   "outputs": [],
   "source": []
  },
  {
   "cell_type": "code",
   "execution_count": null,
   "id": "37695d60",
   "metadata": {},
   "outputs": [],
   "source": []
  },
  {
   "cell_type": "code",
   "execution_count": null,
   "id": "57cec24d",
   "metadata": {},
   "outputs": [],
   "source": []
  },
  {
   "cell_type": "code",
   "execution_count": null,
   "id": "fcd98343",
   "metadata": {},
   "outputs": [],
   "source": []
  },
  {
   "cell_type": "code",
   "execution_count": null,
   "id": "2315ea0e",
   "metadata": {},
   "outputs": [],
   "source": []
  },
  {
   "cell_type": "code",
   "execution_count": null,
   "id": "578a0f2f",
   "metadata": {},
   "outputs": [],
   "source": []
  },
  {
   "cell_type": "code",
   "execution_count": null,
   "id": "3312ea95",
   "metadata": {},
   "outputs": [],
   "source": []
  },
  {
   "cell_type": "code",
   "execution_count": null,
   "id": "f86d59b9",
   "metadata": {},
   "outputs": [],
   "source": []
  },
  {
   "cell_type": "code",
   "execution_count": null,
   "id": "4c006ee3",
   "metadata": {},
   "outputs": [],
   "source": []
  },
  {
   "cell_type": "code",
   "execution_count": null,
   "id": "37ba5576",
   "metadata": {},
   "outputs": [],
   "source": []
  },
  {
   "cell_type": "code",
   "execution_count": null,
   "id": "d7734aa3",
   "metadata": {},
   "outputs": [],
   "source": []
  },
  {
   "cell_type": "code",
   "execution_count": null,
   "id": "c4190f40",
   "metadata": {},
   "outputs": [],
   "source": []
  },
  {
   "cell_type": "code",
   "execution_count": null,
   "id": "2e1641f9",
   "metadata": {},
   "outputs": [],
   "source": []
  },
  {
   "cell_type": "code",
   "execution_count": null,
   "id": "129ab593",
   "metadata": {},
   "outputs": [],
   "source": []
  },
  {
   "cell_type": "code",
   "execution_count": null,
   "id": "a72de09c",
   "metadata": {},
   "outputs": [],
   "source": []
  },
  {
   "cell_type": "code",
   "execution_count": null,
   "id": "6fc56801",
   "metadata": {},
   "outputs": [],
   "source": []
  },
  {
   "cell_type": "code",
   "execution_count": null,
   "id": "d493875a",
   "metadata": {},
   "outputs": [],
   "source": []
  },
  {
   "cell_type": "code",
   "execution_count": null,
   "id": "5497a8db",
   "metadata": {},
   "outputs": [],
   "source": []
  },
  {
   "cell_type": "code",
   "execution_count": null,
   "id": "ed3b1baf",
   "metadata": {},
   "outputs": [],
   "source": []
  },
  {
   "cell_type": "code",
   "execution_count": null,
   "id": "5dba94a8",
   "metadata": {},
   "outputs": [],
   "source": []
  },
  {
   "cell_type": "code",
   "execution_count": null,
   "id": "44901aef",
   "metadata": {},
   "outputs": [],
   "source": []
  },
  {
   "cell_type": "code",
   "execution_count": null,
   "id": "573e62b9-7836-4880-944d-0b6375c55170",
   "metadata": {},
   "outputs": [],
   "source": []
  },
  {
   "cell_type": "code",
   "execution_count": null,
   "id": "0a47bce4-f431-472a-aed4-7a3580cb2616",
   "metadata": {},
   "outputs": [],
   "source": []
  },
  {
   "cell_type": "code",
   "execution_count": null,
   "id": "96bbacc2-74c1-45ee-a0b4-9ff5957ba2ea",
   "metadata": {},
   "outputs": [],
   "source": []
  }
 ],
 "metadata": {
  "kernelspec": {
   "display_name": "Python 3 (ipykernel)",
   "language": "python",
   "name": "python3"
  },
  "language_info": {
   "codemirror_mode": {
    "name": "ipython",
    "version": 3
   },
   "file_extension": ".py",
   "mimetype": "text/x-python",
   "name": "python",
   "nbconvert_exporter": "python",
   "pygments_lexer": "ipython3",
   "version": "3.10.0"
  }
 },
 "nbformat": 4,
 "nbformat_minor": 5
}
