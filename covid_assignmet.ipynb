{
  "nbformat": 4,
  "nbformat_minor": 5,
  "metadata": {
    "kernelspec": {
      "display_name": "Python 3 (ipykernel)",
      "language": "python",
      "name": "python3"
    },
    "language_info": {
      "codemirror_mode": {
        "name": "ipython",
        "version": 3
      },
      "file_extension": ".py",
      "mimetype": "text/x-python",
      "name": "python",
      "nbconvert_exporter": "python",
      "pygments_lexer": "ipython3",
      "version": "3.10.0"
    },
    "colab": {
      "name": "covid-assignmet.ipynb",
      "provenance": [],
      "collapsed_sections": [],
      "include_colab_link": true
    }
  },
  "cells": [
    {
      "cell_type": "markdown",
      "metadata": {
        "id": "view-in-github",
        "colab_type": "text"
      },
      "source": [
        "<a href=\"https://colab.research.google.com/github/ycetin94/python-assigment/blob/main/covid_assignmet.ipynb\" target=\"_parent\"><img src=\"https://colab.research.google.com/assets/colab-badge.svg\" alt=\"Open In Colab\"/></a>"
      ]
    },
    {
      "cell_type": "code",
      "metadata": {
        "id": "8b3f2e69-346c-426e-bf56-67c9e0f92316",
        "colab": {
          "base_uri": "https://localhost:8080/"
        },
        "outputId": "c1f1d654-4800-47ef-a3c9-be5369bf1287"
      },
      "source": [
        "age = input(\"Are you a cigarette addict older than 75 years old? enter yes or no :     \").title().strip() == \"Yes\"\n",
        "chronic = input(\"Do you have a severe chronic disease? enter yes or no:        \").title().strip() == \"Yes\"\n",
        "immune = input(\"Is your immune system too weak?  enter yes or no :     \").title().strip() == \"Yes\"\n",
        "\n",
        "\n",
        "if age and chronic :\n",
        "    if immune :\n",
        "        print(\"You are in risky group\" )\n",
        "        \n",
        "    else :\n",
        "        print(\" YOU ARE NOT IN RISKY GROUP \")\n",
        "        \n",
        "        \n",
        "else:\n",
        "     print(\"You are not in risky group\")"
      ],
      "id": "8b3f2e69-346c-426e-bf56-67c9e0f92316",
      "execution_count": null,
      "outputs": [
        {
          "output_type": "stream",
          "name": "stdout",
          "text": [
            "Are you a cigarette addict older than 75 years old? enter yes or no     hhh\n",
            "Do you have a severe chronic disease? enter yes or no        bbbb\n",
            "Is your immune system too weak?  enter yes or no :     nnn\n",
            "You are not in risky group\n"
          ]
        }
      ]
    }
  ]
}